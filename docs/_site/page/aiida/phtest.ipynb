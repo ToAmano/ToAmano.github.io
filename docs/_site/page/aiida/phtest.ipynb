{
 "cells": [
  {
   "cell_type": "code",
   "execution_count": 1,
   "metadata": {},
   "outputs": [
    {
     "data": {
      "text/plain": [
       "Profile<uuid='ce0a34b5764048fa9cb47539416c01b7' name='ta'>"
      ]
     },
     "execution_count": 1,
     "metadata": {},
     "output_type": "execute_result"
    }
   ],
   "source": [
    "from aiida.orm import Code, StructureData, load_node\n",
    "from aiida.plugins import DataFactory\n",
    "from aiida import orm\n",
    "from aiida.plugins import CalculationFactory\n",
    "from aiida.engine import launch\n",
    "from aiida.orm import load_group\n",
    "import ase.io # 構造を読み込む用\n",
    "from aiida import load_profile\n",
    "load_profile()"
   ]
  },
  {
   "cell_type": "code",
   "execution_count": 16,
   "metadata": {},
   "outputs": [],
   "source": [
    "codename = 'qe-6.6-ph@ohtaka'\n",
    "code = Code.get_from_string(codename)\n",
    "\n",
    "# codeから，対応するbuilderを取得\n",
    "builder = code.get_builder()\n"
   ]
  },
  {
   "cell_type": "code",
   "execution_count": 21,
   "metadata": {},
   "outputs": [],
   "source": [
    "filename=\"/Users/amano/works/research/jsr_utokyo/cpmd/02_GaAs/GaAs_mp-2534_conventional_standard.cif\"\n",
    "#filename=\"02_GaAs.cif\"\n",
    "\n",
    "\n",
    "# load structure (currently only cif is available)\n",
    "ase_structure=ase.io.read(filename, format=\"cif\")\n",
    "import numpy as np\n",
    "P=np.diag(np.array([2,2,2]))\n",
    "import ase\n",
    "test=ase.build.make_supercell(ase_structure, P)"
   ]
  },
  {
   "cell_type": "code",
   "execution_count": 20,
   "metadata": {},
   "outputs": [
    {
     "name": "stdout",
     "output_type": "stream",
     "text": [
      "Cell([5.750182, 5.750182, 5.750182])\n",
      "Cell([11.500364, 11.500364, 11.500364])\n"
     ]
    }
   ],
   "source": [
    "print(ase_structure.get_cell())\n",
    "print(test.get_cell())"
   ]
  },
  {
   "cell_type": "code",
   "execution_count": 3,
   "metadata": {},
   "outputs": [],
   "source": [
    "# 計算条件は構造だけを最適化構造から取得\n",
    "first_calculation = orm.load_node(707)\n",
    "structure=first_calculation.outputs.output_structure\n"
   ]
  },
  {
   "cell_type": "code",
   "execution_count": 4,
   "metadata": {},
   "outputs": [
    {
     "name": "stdout",
     "output_type": "stream",
     "text": [
      "{'cell': [[5.5961558311337, 0.0, 0.0], [0.0, 5.5961558311337, 0.0], [0.0, 0.0, 5.5961558311337]], 'pbc1': True, 'pbc2': True, 'pbc3': True, 'kinds': [{'mass': 69.723, 'name': 'Ga', 'symbols': ['Ga'], 'weights': [1.0]}, {'mass': 74.921595, 'name': 'As', 'symbols': ['As'], 'weights': [1.0]}], 'sites': [{'position': [0.0, 0.0, 0.0], 'kind_name': 'Ga'}, {'position': [0.0, 2.7980779155169, 2.7980779155169], 'kind_name': 'Ga'}, {'position': [2.7980779155169, 0.0, 2.7980779155169], 'kind_name': 'Ga'}, {'position': [2.7980779155169, 2.7980779155169, 0.0], 'kind_name': 'Ga'}, {'position': [1.3990390324968, 1.3990390324968, 1.3990390324968], 'kind_name': 'As'}, {'position': [1.3990390324968, 4.197116798537, 4.197116798537], 'kind_name': 'As'}, {'position': [4.197116798537, 1.3990390324968, 4.197116798537], 'kind_name': 'As'}, {'position': [4.197116798537, 4.197116798537, 1.3990390324968], 'kind_name': 'As'}]}\n"
     ]
    }
   ],
   "source": [
    "print(structure.attributes)\n"
   ]
  },
  {
   "cell_type": "code",
   "execution_count": 17,
   "metadata": {},
   "outputs": [],
   "source": [
    "import aiida.tools.data.array.kpoints.main\n",
    "test2=aiida.tools.data.array.kpoints.main.get_explicit_kpoints_path(structure,method='seekpath')"
   ]
  },
  {
   "cell_type": "code",
   "execution_count": 18,
   "metadata": {},
   "outputs": [
    {
     "data": {
      "text/plain": [
       "<KpointsData: uuid: ab995fca-526f-4707-a18d-6bb7fa67b001 (unstored)>"
      ]
     },
     "execution_count": 18,
     "metadata": {},
     "output_type": "execute_result"
    }
   ],
   "source": [
    "test2[\"explicit_kpoints\"]"
   ]
  },
  {
   "cell_type": "code",
   "execution_count": 23,
   "metadata": {},
   "outputs": [
    {
     "name": "stdout",
     "output_type": "stream",
     "text": [
      "{'GAMMA': [0.0, 0.0, 0.0], 'X': [0.5, 0.0, 0.5], 'L': [0.5, 0.5, 0.5], 'W': [0.5, 0.25, 0.75], 'W_2': [0.75, 0.25, 0.5], 'K': [0.375, 0.375, 0.75], 'U': [0.625, 0.25, 0.625]}\n",
      "[('GAMMA', 'X'), ('X', 'U'), ('K', 'GAMMA'), ('GAMMA', 'L'), ('L', 'W'), ('W', 'X')]\n"
     ]
    }
   ],
   "source": [
    "print(test2[\"parameters\"][\"point_coords\"])\n",
    "\n",
    "print(test2[\"parameters\"][\"path\"])"
   ]
  },
  {
   "cell_type": "code",
   "execution_count": 7,
   "metadata": {},
   "outputs": [],
   "source": [
    "\n",
    "test3=aiida.tools.data.array.kpoints.seekpath.get_kpoints_path(structure,{})[\"parameters\"]"
   ]
  },
  {
   "cell_type": "code",
   "execution_count": 9,
   "metadata": {},
   "outputs": [
    {
     "data": {
      "text/plain": [
       "[('GAMMA', 'X'),\n",
       " ('X', 'U'),\n",
       " ('K', 'GAMMA'),\n",
       " ('GAMMA', 'L'),\n",
       " ('L', 'W'),\n",
       " ('W', 'X')]"
      ]
     },
     "execution_count": 9,
     "metadata": {},
     "output_type": "execute_result"
    }
   ],
   "source": [
    "test3.dict.path"
   ]
  },
  {
   "cell_type": "code",
   "execution_count": 35,
   "metadata": {},
   "outputs": [
    {
     "data": {
      "text/plain": [
       "[[-1.122768110248764, 1.122768110248764, 1.122768110248764],\n",
       " [1.122768110248764, -1.122768110248764, 1.122768110248764],\n",
       " [1.122768110248764, 1.122768110248764, -1.122768110248764]]"
      ]
     },
     "execution_count": 35,
     "metadata": {},
     "output_type": "execute_result"
    }
   ],
   "source": [
    "test3.dict.reciprocal_primitive_lattice"
   ]
  },
  {
   "cell_type": "code",
   "execution_count": 10,
   "metadata": {},
   "outputs": [
    {
     "data": {
      "text/plain": [
       "{'GAMMA': [0.0, 0.0, 0.0],\n",
       " 'X': [0.5, 0.0, 0.5],\n",
       " 'L': [0.5, 0.5, 0.5],\n",
       " 'W': [0.5, 0.25, 0.75],\n",
       " 'W_2': [0.75, 0.25, 0.5],\n",
       " 'K': [0.375, 0.375, 0.75],\n",
       " 'U': [0.625, 0.25, 0.625]}"
      ]
     },
     "execution_count": 10,
     "metadata": {},
     "output_type": "execute_result"
    }
   ],
   "source": [
    "test3.dict.point_coords"
   ]
  },
  {
   "cell_type": "code",
   "execution_count": 11,
   "metadata": {},
   "outputs": [
    {
     "data": {
      "text/plain": [
       "array([31, 33, 31, 33, 31, 33, 31, 33], dtype=int32)"
      ]
     },
     "execution_count": 11,
     "metadata": {},
     "output_type": "execute_result"
    }
   ],
   "source": [
    "test3.dict"
   ]
  },
  {
   "cell_type": "code",
   "execution_count": 8,
   "metadata": {},
   "outputs": [
    {
     "name": "stdout",
     "output_type": "stream",
     "text": [
      "\u001b[0;31mType:\u001b[0m            ProcessBuilder-e2c0b612-2738-45d5-80dd-e2d7dc9649fa\n",
      "\u001b[0;31mString form:\u001b[0m     {'metadata': {'options': {'stash': {}}}, 'code': <Code: Remote code 'qe-6.6-matdyn' on ohtaka, pk <...> -a574-5f3c8a67e6f8>, 'parameters': <Dict: uuid: aec80e0c-6222-4e6c-bd0c-d5f2283cca73 (unstored)>}\n",
      "\u001b[0;31mLength:\u001b[0m          3\n",
      "\u001b[0;31mFile:\u001b[0m            ~/anaconda3/envs/aiida/lib/python3.10/abc.py\n",
      "\u001b[0;31mDocstring:\u001b[0m       <no docstring>\n",
      "\u001b[0;31mClass docstring:\u001b[0m A process builder that helps setting up the inputs for creating a new process.\n",
      "\u001b[0;31mInit docstring:\u001b[0m \n",
      "Construct a `ProcessBuilder` instance for the given `Process` class.\n",
      "\n",
      ":param process_class: the `Process` subclass\n"
     ]
    }
   ],
   "source": [
    "# -*- coding: utf-8 -*-\n",
    "###########################################################################\n",
    "# GaAs bulk ph calculation\n",
    "# https://aiida-quantumespresso.readthedocs.io/en/latest/user_guide/get_started/examples/pw_tutorial.html\n",
    "#\n",
    "# in ph calculation \n",
    "\n",
    "from aiida.orm import Code, StructureData\n",
    "from aiida.plugins import DataFactory\n",
    "from aiida import orm\n",
    "from aiida.plugins import CalculationFactory\n",
    "from aiida.engine import launch\n",
    "from aiida.orm import load_group\n",
    "import ase.io # 構造を読み込む用\n",
    "import aiida.tools.data.array.kpoints.seekpath\n",
    "\n",
    "# ===========   code  ===============\n",
    "# codename = 'qe-7.0-pw@sauron'\n",
    "codename = 'qe-6.6-matdyn@ohtaka'\n",
    "code = Code.get_from_string(codename)\n",
    "\n",
    "# codeから，対応するbuilderを取得\n",
    "builder = code.get_builder()\n",
    "\n",
    "# ======= parent q2r calc ===========\n",
    "parent_ID= 1008\n",
    "# ===============================\n",
    "\n",
    "# ======= parent qw calc ===========\n",
    "pw_ID= 937\n",
    "# ===============================\n",
    "\n",
    "\n",
    "# inputs\n",
    "parameters = orm.Dict({\n",
    "    \"INPUT\":{\"asr\":\"simple\",\n",
    "             },\n",
    "             })\n",
    "\n",
    "# builder\n",
    "builder.parameters=orm.Dict(dict=parameters)\n",
    "\n",
    "# force_constants=load_node(parent_ID).outputs.force_constants\n",
    "# input_test=[(force_constants.uuid, force_constants.filename, force_constants.filename)]\n",
    "# builder.parent_folder=input_test\n",
    "\n",
    "\n",
    "builder?\n"
   ]
  },
  {
   "cell_type": "code",
   "execution_count": 9,
   "metadata": {},
   "outputs": [
    {
     "name": "stdout",
     "output_type": "stream",
     "text": [
      "\u001b[0;31mType:\u001b[0m            ProcessBuilder-e2c0b612-2738-45d5-80dd-e2d7dc9649fa\n",
      "\u001b[0;31mString form:\u001b[0m     {'metadata': {'options': {'stash': {}}}, 'code': <Code: Remote code 'qe-6.6-matdyn' on ohtaka, pk <...> , 'force_constants': <ForceConstantsData: uuid: ba306eb2-eed3-40ad-8a8c-d984d845f1f4 (pk: 1011)>}\n",
      "\u001b[0;31mLength:\u001b[0m          5\n",
      "\u001b[0;31mFile:\u001b[0m            ~/anaconda3/envs/aiida/lib/python3.10/abc.py\n",
      "\u001b[0;31mDocstring:\u001b[0m       <no docstring>\n",
      "\u001b[0;31mClass docstring:\u001b[0m A process builder that helps setting up the inputs for creating a new process.\n",
      "\u001b[0;31mInit docstring:\u001b[0m \n",
      "Construct a `ProcessBuilder` instance for the given `Process` class.\n",
      "\n",
      ":param process_class: the `Process` subclass\n"
     ]
    }
   ],
   "source": [
    "\n",
    "#builder.parent_calculation=load_node(parent_ID).outputs.force_constants\n",
    "builder.parent_folder=load_node(parent_ID).outputs.remote_folder\n",
    "\n",
    "builder.force_constants=load_node(parent_ID).outputs.force_constants\n",
    "\n",
    "builder?"
   ]
  },
  {
   "cell_type": "code",
   "execution_count": null,
   "metadata": {},
   "outputs": [],
   "source": [
    "\n",
    "# 構造を取得して対応するk点を取得\n",
    "struc=load_node(pw_ID).inputs.structure\n",
    "# kpath=aiida.tools.data.array.kpoints.main.get_explicit_kpoints_path(struc)\n",
    "# print(\"\")\n",
    "# print(kpath[\"parameters\"].dict.path)\n",
    "#print(kpath[\"explicit_kpoints\"].labels)\n",
    "#print(\"\")\n",
    "#print(kpath[\"parameters\"])\n",
    "#print(\"\")\n",
    "#print(kpath[\"primitive_structure\"])\n",
    "#print(\"\")\n",
    "\n",
    "kpath_explicit=aiida.tools.data.array.kpoints.seekpath.get_explicit_kpoints_path(struc,{})\n",
    "print(\" ----------------- \")\n",
    "print(\" get explicit k-path \")\n",
    "print(kpath_explicit[\"parameters\"][\"point_coords\"])\n",
    "print(\"\")\n",
    "print(kpath_explicit[\"parameters\"][\"path\"])\n",
    "print(\"\")\n",
    "builder.kpoints=kpath_explicit[\"explicit_kpoints\"]\n",
    "\n",
    "# additional setting (necessary)\n",
    "builder.metadata.options.resources = {'num_machines': 4, 'tot_num_mpiprocs':128}\n",
    "builder.metadata.options.withmpi = True\n",
    "builder.metadata.options.queue_name = \"i8cpu\"\n",
    "builder.metadata.options.max_wallclock_seconds = 24*60*60\n",
    "\n",
    "# additional setting 1 (optional)\n",
    "builder.metadata.label = \"q2r GaAs\"\n",
    "builder.metadata.description = \"q2r calculation GaAs 3*3*3 q-points for bands from {}\".format(load_node(parent_ID).pk)\n",
    "builder.metadata.options.output_filename = \"GaAs.q2r.in\"\n",
    "builder.metadata.options.output_filename = \"GaAs.q2r.out\"\n",
    "\n",
    "builder.metadata.options.custom_scheduler_commands = '''\n",
    "#SBATCH -J matdyn\n",
    "#SBATCH --mail-type=all        #available type:BEGIN, END, FAIL, REQUEUE, ALL\n",
    "#SBATCH --mail-user=tragic44cg@icloud.com\n",
    "'''\n",
    "builder.metadata.options.prepend_text = '''\n",
    "# output calculation settings\n",
    "echo\n",
    "echo    START DATE       : `date`\n",
    "echo   SLURM_JOBID       : ${SLURM_JOBID}\n",
    "echo SLURM_SUBMIT_DIR    : ${SLURM_SUBMIT_DIR}\n",
    "echo SLURM_CPUS_PER_TASK : ${SLURM_CPUS_PER_TASK}\n",
    "echo SLURM_JOB_NUM_NODES : ${SLURM_JOB_NUM_NODES} # num of nodes allocated to the job\n",
    "echo   SLURM_NTASKS      : ${SLURM_NTASKS}\n",
    "'''\n",
    "\n",
    "builder.metadata.dry_run = True\n",
    "builder.metadata.store_provenance = False\n",
    "\n",
    "# job submission to daemon\n",
    "job=launch.submit(builder)\n",
    "\n",
    "# after submission\n",
    "print('launched WorkChain<{}> for structure {}'.format(job.pk, load_node(pw_ID).inputs.structure.get_formula()))\n",
    "print(\"Use `verdi process list` or `verdi process show {}` to check the progress\".format(job.pk))\n",
    "\n",
    "\n",
    "\n"
   ]
  }
 ],
 "metadata": {
  "kernelspec": {
   "display_name": "Python 3.10.5 ('aiida')",
   "language": "python",
   "name": "python3"
  },
  "language_info": {
   "codemirror_mode": {
    "name": "ipython",
    "version": 3
   },
   "file_extension": ".py",
   "mimetype": "text/x-python",
   "name": "python",
   "nbconvert_exporter": "python",
   "pygments_lexer": "ipython3",
   "version": "3.10.5"
  },
  "orig_nbformat": 4,
  "vscode": {
   "interpreter": {
    "hash": "3d188ad2cd356ed504fdd6ea02ecb215006a2f34c3e0b1679d43ca3fb32dec55"
   }
  }
 },
 "nbformat": 4,
 "nbformat_minor": 2
}
